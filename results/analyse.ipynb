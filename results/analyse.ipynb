{
 "cells": [
  {
   "cell_type": "code",
   "execution_count": 3,
   "metadata": {},
   "outputs": [],
   "source": [
    "import os\n",
    "import glob"
   ]
  },
  {
   "cell_type": "code",
   "execution_count": 5,
   "metadata": {},
   "outputs": [],
   "source": [
    "dc_results_path = './dc_results/'\n",
    "pddl_results_path = './pddl_results/'\n",
    "\n",
    "dc_result_files = [item for item in glob.glob(dc_results_path + '*.txt') if 'output_instance' in item]\n",
    "pddl_result_files = {fold:{'output': [item for item in os.listdir(pddl_results_path+fold) if 'output' in item],\n",
    "                      'params': [item for item in os.listdir(pddl_results_path+fold) if 'params' in item],\n",
    "                       'plan': [item for item in os.listdir(pddl_results_path+fold) if 'plan' in item] } \n",
    "                for fold in os.listdir(pddl_results_path) if os.path.isdir(pddl_results_path+fold)}"
   ]
  },
  {
   "cell_type": "code",
   "execution_count": 6,
   "metadata": {},
   "outputs": [
    {
     "name": "stdout",
     "output_type": "stream",
     "text": [
      "### DeepCubeA Plan-Count ###\n",
      "8/16 -- DC\n",
      "\n",
      "### PDDL Plan-Count ###\n",
      "24/30 -- blind\n",
      "30/30 -- merge-and-shrink\n",
      "26/30 -- max-systematic-pdb\n",
      "23/30 -- context_enhanced_additive\n",
      "27/30 -- goal_count\n",
      "28/30 -- max\n",
      "28/30 -- lm_cost\n",
      "30/30 -- ff\n",
      "30/30 -- causal_graph\n"
     ]
    }
   ],
   "source": [
    "print(\"### DeepCubeA Plan-Count ###\")\n",
    "count = 0\n",
    "for result in dc_result_files:\n",
    "    with open(result, 'r') as f:\n",
    "        cont = f.read()\n",
    "\n",
    "    if \"Timeout Expired\" in cont:\n",
    "        continue\n",
    "\n",
    "    count += 1\n",
    "print(f\"{count}/{len(dc_result_files)} -- DC\", end='\\n\\n')\n",
    "    \n",
    "print(\"### PDDL Plan-Count ###\")\n",
    "for key, value in pddl_result_files.items():\n",
    "    print(f\"{len(value['plan'])}/{len(value['output'])} -- {key}\")"
   ]
  },
  {
   "cell_type": "code",
   "execution_count": 34,
   "metadata": {},
   "outputs": [],
   "source": [
    "####### Process DeepCubeA Results #######\n",
    "\n",
    "for file in dc_result_files:\n",
    "    with open(file, 'r') as f:\n",
    "        cont = f.read()\n",
    "\n",
    "    if \"Timeout Expired\" in cont:\n",
    "        continue\n",
    "\n",
    "    plan_list = cont.split('Moves-List:')[1].split('#')[0]\n",
    "    plan_list = [int(item.strip().replace('[', '').replace(']', '')) for item in plan_list.split(',') if item.strip()]\n",
    "    \n",
    "    # with open(dc_results_path + os.path.basename(file).replace('output_instance', 'plan'), 'w') as f:\n",
    "    #     f.write('\\n'.join([str(item) for item in plan_list]))"
   ]
  },
  {
   "cell_type": "code",
   "execution_count": 10,
   "metadata": {},
   "outputs": [
    {
     "name": "stdout",
     "output_type": "stream",
     "text": [
      "[0, 0, 2, 0, 2, 2, 1, 3, 1, 3, 2, 0, 0, 3, 1, 3, 1, 1, 3, 1, 1, 2, 2, 0, 3, 0, 0, 0, 2, 2, 1, 3, 0, 3, 1, 1, 3, 3, 3, 1, 1, 2, 2, 0, 1, 2, 2, 0, 3]\n"
     ]
    }
   ],
   "source": [
    "def process_pddl_plan(plan_file):\n",
    "\n",
    "    dir_dict = {\n",
    "        'dir-up': 0,\n",
    "        'dir-down': 1,\n",
    "        'dir-left': 2,\n",
    "        'dir-right': 3,\n",
    "    }\n",
    "\n",
    "    with open(plan_file, 'r') as f:\n",
    "        cont = f.read()\n",
    "\n",
    "    plan_list = [item.split(' ')[-1].replace(')', '') for item in cont.split('\\n') if '; cost' not in item and item.strip()]\n",
    "    plan_list = [dir_dict[item] for item in plan_list]\n",
    "    print(plan_list)\n",
    "\n",
    "process_pddl_plan(pddl_results_path + 'blind/' + pddl_result_files['blind']['plan'][0])"
   ]
  }
 ],
 "metadata": {
  "kernelspec": {
   "display_name": "Python 3",
   "language": "python",
   "name": "python3"
  },
  "language_info": {
   "codemirror_mode": {
    "name": "ipython",
    "version": 3
   },
   "file_extension": ".py",
   "mimetype": "text/x-python",
   "name": "python",
   "nbconvert_exporter": "python",
   "pygments_lexer": "ipython3",
   "version": "3.9.13"
  }
 },
 "nbformat": 4,
 "nbformat_minor": 2
}
